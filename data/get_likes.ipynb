{
 "cells": [
  {
   "cell_type": "code",
   "execution_count": 1,
   "metadata": {},
   "outputs": [],
   "source": [
    "from tqdm import tqdm_notebook\n",
    "\n",
    "import requests"
   ]
  },
  {
   "cell_type": "code",
   "execution_count": 2,
   "metadata": {},
   "outputs": [],
   "source": [
    "token = '3c28c4e23c28c4e23c7578ca553c72e7bf33c283c28c4e26493cf62f196851bfb89c1d0'\n",
    "likes = set()\n",
    "\n",
    "with open('posts') as f:\n",
    "    posts = [line.strip() for line in f]"
   ]
  },
  {
   "cell_type": "code",
   "execution_count": 3,
   "metadata": {},
   "outputs": [
    {
     "data": {
      "application/vnd.jupyter.widget-view+json": {
       "model_id": "9c7d7343563d42d19fa0392b65d8cbce",
       "version_major": 2,
       "version_minor": 0
      },
      "text/plain": [
       "HBox(children=(IntProgress(value=0, max=1), HTML(value='')))"
      ]
     },
     "metadata": {},
     "output_type": "display_data"
    },
    {
     "name": "stdout",
     "output_type": "stream",
     "text": [
      "\n"
     ]
    }
   ],
   "source": [
    "for post in tqdm_notebook(posts):\n",
    "\n",
    "    owner, item = post.split('_')\n",
    "\n",
    "    url = f'https://api.vk.com/method/likes.getList?type=post&owner_id={owner}' +\\\n",
    "    f'&item_id={item}&access_token={token}&v=5.00'\n",
    "    r = requests.get(url)\n",
    "    \n",
    "    count = r.json()['response']['count']\n",
    "    \n",
    "    for i in range(0, int(count/100)+1):\n",
    "        offset = 100 * i\n",
    "        r = requests.get(url+f'&offset={offset}')\n",
    "        likes.update(r.json()['response']['items'])"
   ]
  },
  {
   "cell_type": "code",
   "execution_count": 4,
   "metadata": {},
   "outputs": [
    {
     "data": {
      "text/plain": [
       "'https://api.vk.com/method/likes.getList?type=post&owner_id=-105829519&item_id=137368&access_token=3c28c4e23c28c4e23c7578ca553c72e7bf33c283c28c4e26493cf62f196851bfb89c1d0&v=5.00'"
      ]
     },
     "execution_count": 4,
     "metadata": {},
     "output_type": "execute_result"
    }
   ],
   "source": [
    "url"
   ]
  },
  {
   "cell_type": "code",
   "execution_count": 77,
   "metadata": {},
   "outputs": [],
   "source": [
    "with open('likes_list.txt', 'w') as f:\n",
    "    for el in likes:\n",
    "        f.write(str(el)+'\\n')"
   ]
  },
  {
   "cell_type": "code",
   "execution_count": null,
   "metadata": {},
   "outputs": [],
   "source": []
  },
  {
   "cell_type": "code",
   "execution_count": null,
   "metadata": {},
   "outputs": [],
   "source": []
  }
 ],
 "metadata": {
  "kernelspec": {
   "display_name": "Python 3",
   "language": "python",
   "name": "python3"
  },
  "language_info": {
   "codemirror_mode": {
    "name": "ipython",
    "version": 3
   },
   "file_extension": ".py",
   "mimetype": "text/x-python",
   "name": "python",
   "nbconvert_exporter": "python",
   "pygments_lexer": "ipython3",
   "version": "3.7.3"
  }
 },
 "nbformat": 4,
 "nbformat_minor": 2
}
